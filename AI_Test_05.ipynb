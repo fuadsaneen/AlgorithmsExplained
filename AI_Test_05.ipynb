{
  "nbformat": 4,
  "nbformat_minor": 0,
  "metadata": {
    "colab": {
      "name": "AI Test 05.ipynb",
      "provenance": [],
      "collapsed_sections": [],
      "authorship_tag": "ABX9TyPcfQEJa1aKJAG6Gfgb2xkN",
      "include_colab_link": true
    },
    "kernelspec": {
      "name": "python3",
      "display_name": "Python 3"
    },
    "language_info": {
      "name": "python"
    }
  },
  "cells": [
    {
      "cell_type": "markdown",
      "metadata": {
        "id": "view-in-github",
        "colab_type": "text"
      },
      "source": [
        "<a href=\"https://colab.research.google.com/github/fuadsaneen/AlgorithmsExplained/blob/main/AI_Test_05.ipynb\" target=\"_parent\"><img src=\"https://colab.research.google.com/assets/colab-badge.svg\" alt=\"Open In Colab\"/></a>"
      ]
    },
    {
      "cell_type": "markdown",
      "metadata": {
        "id": "d2RftvBfBV2k"
      },
      "source": [
        "**Nuchange - AI Test 5**"
      ]
    },
    {
      "cell_type": "markdown",
      "metadata": {
        "id": "5rQjSaFN68GM"
      },
      "source": [
        "**Level A**"
      ]
    },
    {
      "cell_type": "markdown",
      "metadata": {
        "id": "XbrZclIiBfeS"
      },
      "source": [
        "Submitted by : Fuad Saneen PK\n",
        "\n",
        "Email : fuadsaneenpk@gmail.com\n",
        "\n",
        "Contents :\n",
        "\n",
        "Training\n",
        "\n",
        "1. Install dependencies\n",
        "\n",
        "2. Load train dataset\n",
        "\n",
        "3. Preprocessing Steps\n",
        "\n",
        "4. Define feature set\n",
        "\n",
        "5. Define Output feature\n",
        "\n",
        "6. Split test train\n",
        "\n",
        "7. Train on different models and choose the best\n",
        "\n",
        "Testing\n",
        "\n",
        "1. Load test dataset\n",
        "\n",
        "2. Preprocessing Steps\n",
        "\n",
        "3. Predict on test data\n",
        "\n",
        "4. Merge result with test data"
      ]
    },
    {
      "cell_type": "markdown",
      "metadata": {
        "id": "dlQhBSi97b27"
      },
      "source": [
        "**INSTALL DEPENDENCIES AND IMPORT LIBRARIES**"
      ]
    },
    {
      "cell_type": "code",
      "metadata": {
        "colab": {
          "base_uri": "https://localhost:8080/"
        },
        "id": "is2mr2-s67jC",
        "outputId": "e9c11408-bd97-4fd5-c6b3-777a3f72f31d"
      },
      "source": [
        "# Install dependencies and import libraries.\n",
        "\n",
        "# Preprocessing libraries.\n",
        "import pandas as pd\n",
        "import numpy as np\n",
        "!pip install category-encoders\n",
        "import category_encoders as ce\n",
        "\n",
        "# Model libraries.\n",
        "from sklearn.model_selection import train_test_split\n",
        "from sklearn.tree import DecisionTreeClassifier\n",
        "from sklearn.ensemble import RandomForestClassifier\n",
        "from sklearn.naive_bayes import GaussianNB\n",
        "\n",
        "# Various measurements libraries.\n",
        "from sklearn.metrics import mean_absolute_error\n",
        "!pip install eli5\n",
        "import eli5\n",
        "from eli5.sklearn import PermutationImportance\n",
        "\n",
        "# Visualization libraries.\n",
        "import matplotlib.pyplot as plt\n",
        "from sklearn.metrics import plot_confusion_matrix\n",
        "from sklearn.metrics import roc_curve\n",
        "from sklearn.metrics import roc_auc_score\n",
        "\n",
        "# Model saving library.\n",
        "import pickle"
      ],
      "execution_count": null,
      "outputs": [
        {
          "output_type": "stream",
          "name": "stdout",
          "text": [
            "Collecting category-encoders\n",
            "  Downloading category_encoders-2.3.0-py2.py3-none-any.whl (82 kB)\n",
            "\u001b[?25l\r\u001b[K     |████                            | 10 kB 32.5 MB/s eta 0:00:01\r\u001b[K     |████████                        | 20 kB 30.7 MB/s eta 0:00:01\r\u001b[K     |████████████                    | 30 kB 34.9 MB/s eta 0:00:01\r\u001b[K     |████████████████                | 40 kB 38.4 MB/s eta 0:00:01\r\u001b[K     |████████████████████            | 51 kB 30.2 MB/s eta 0:00:01\r\u001b[K     |████████████████████████        | 61 kB 32.7 MB/s eta 0:00:01\r\u001b[K     |████████████████████████████    | 71 kB 24.4 MB/s eta 0:00:01\r\u001b[K     |███████████████████████████████▉| 81 kB 25.7 MB/s eta 0:00:01\r\u001b[K     |████████████████████████████████| 82 kB 508 kB/s \n",
            "\u001b[?25hRequirement already satisfied: numpy>=1.14.0 in /usr/local/lib/python3.7/dist-packages (from category-encoders) (1.19.5)\n",
            "Requirement already satisfied: statsmodels>=0.9.0 in /usr/local/lib/python3.7/dist-packages (from category-encoders) (0.10.2)\n",
            "Requirement already satisfied: pandas>=0.21.1 in /usr/local/lib/python3.7/dist-packages (from category-encoders) (1.1.5)\n",
            "Requirement already satisfied: patsy>=0.5.1 in /usr/local/lib/python3.7/dist-packages (from category-encoders) (0.5.2)\n",
            "Requirement already satisfied: scipy>=1.0.0 in /usr/local/lib/python3.7/dist-packages (from category-encoders) (1.4.1)\n",
            "Requirement already satisfied: scikit-learn>=0.20.0 in /usr/local/lib/python3.7/dist-packages (from category-encoders) (0.22.2.post1)\n",
            "Requirement already satisfied: python-dateutil>=2.7.3 in /usr/local/lib/python3.7/dist-packages (from pandas>=0.21.1->category-encoders) (2.8.2)\n",
            "Requirement already satisfied: pytz>=2017.2 in /usr/local/lib/python3.7/dist-packages (from pandas>=0.21.1->category-encoders) (2018.9)\n",
            "Requirement already satisfied: six in /usr/local/lib/python3.7/dist-packages (from patsy>=0.5.1->category-encoders) (1.15.0)\n",
            "Requirement already satisfied: joblib>=0.11 in /usr/local/lib/python3.7/dist-packages (from scikit-learn>=0.20.0->category-encoders) (1.0.1)\n",
            "Installing collected packages: category-encoders\n",
            "Successfully installed category-encoders-2.3.0\n"
          ]
        },
        {
          "output_type": "stream",
          "name": "stderr",
          "text": [
            "/usr/local/lib/python3.7/dist-packages/statsmodels/tools/_testing.py:19: FutureWarning: pandas.util.testing is deprecated. Use the functions in the public API at pandas.testing instead.\n",
            "  import pandas.util.testing as tm\n"
          ]
        },
        {
          "output_type": "stream",
          "name": "stdout",
          "text": [
            "Collecting eli5\n",
            "  Downloading eli5-0.11.0-py2.py3-none-any.whl (106 kB)\n",
            "\u001b[?25l\r\u001b[K     |███                             | 10 kB 30.2 MB/s eta 0:00:01\r\u001b[K     |██████▏                         | 20 kB 32.8 MB/s eta 0:00:01\r\u001b[K     |█████████▎                      | 30 kB 36.4 MB/s eta 0:00:01\r\u001b[K     |████████████▍                   | 40 kB 39.3 MB/s eta 0:00:01\r\u001b[K     |███████████████▌                | 51 kB 29.7 MB/s eta 0:00:01\r\u001b[K     |██████████████████▌             | 61 kB 32.0 MB/s eta 0:00:01\r\u001b[K     |█████████████████████▋          | 71 kB 25.1 MB/s eta 0:00:01\r\u001b[K     |████████████████████████▊       | 81 kB 26.1 MB/s eta 0:00:01\r\u001b[K     |███████████████████████████▉    | 92 kB 28.0 MB/s eta 0:00:01\r\u001b[K     |███████████████████████████████ | 102 kB 29.9 MB/s eta 0:00:01\r\u001b[K     |████████████████████████████████| 106 kB 29.9 MB/s \n",
            "\u001b[?25hRequirement already satisfied: graphviz in /usr/local/lib/python3.7/dist-packages (from eli5) (0.10.1)\n",
            "Requirement already satisfied: scikit-learn>=0.20 in /usr/local/lib/python3.7/dist-packages (from eli5) (0.22.2.post1)\n",
            "Requirement already satisfied: jinja2 in /usr/local/lib/python3.7/dist-packages (from eli5) (2.11.3)\n",
            "Requirement already satisfied: six in /usr/local/lib/python3.7/dist-packages (from eli5) (1.15.0)\n",
            "Requirement already satisfied: attrs>16.0.0 in /usr/local/lib/python3.7/dist-packages (from eli5) (21.2.0)\n",
            "Requirement already satisfied: numpy>=1.9.0 in /usr/local/lib/python3.7/dist-packages (from eli5) (1.19.5)\n",
            "Requirement already satisfied: tabulate>=0.7.7 in /usr/local/lib/python3.7/dist-packages (from eli5) (0.8.9)\n",
            "Requirement already satisfied: scipy in /usr/local/lib/python3.7/dist-packages (from eli5) (1.4.1)\n",
            "Requirement already satisfied: joblib>=0.11 in /usr/local/lib/python3.7/dist-packages (from scikit-learn>=0.20->eli5) (1.0.1)\n",
            "Requirement already satisfied: MarkupSafe>=0.23 in /usr/local/lib/python3.7/dist-packages (from jinja2->eli5) (2.0.1)\n",
            "Installing collected packages: eli5\n",
            "Successfully installed eli5-0.11.0\n"
          ]
        },
        {
          "output_type": "stream",
          "name": "stderr",
          "text": [
            "/usr/local/lib/python3.7/dist-packages/sklearn/utils/deprecation.py:144: FutureWarning: The sklearn.feature_selection.base module is  deprecated in version 0.22 and will be removed in version 0.24. The corresponding classes / functions should instead be imported from sklearn.feature_selection. Anything that cannot be imported from sklearn.feature_selection is now part of the private API.\n",
            "  warnings.warn(message, FutureWarning)\n"
          ]
        }
      ]
    },
    {
      "cell_type": "markdown",
      "metadata": {
        "id": "tusu48Gr7vA7"
      },
      "source": [
        "**LOAD TRAINING DATASET**"
      ]
    },
    {
      "cell_type": "code",
      "metadata": {
        "id": "6VOp1G3P7zk3"
      },
      "source": [
        "# Load training dataset.\n",
        "train_dataset = pd.read_csv(\"aml_train.csv\").copy()"
      ],
      "execution_count": null,
      "outputs": []
    },
    {
      "cell_type": "markdown",
      "metadata": {
        "id": "IeCbfd_ri7Jv"
      },
      "source": [
        "**PREPROCESSOR**"
      ]
    },
    {
      "cell_type": "code",
      "metadata": {
        "colab": {
          "base_uri": "https://localhost:8080/",
          "height": 204
        },
        "id": "ZfeAMDvueeon",
        "outputId": "81594c53-f6a4-46fe-cb77-28e0bb4da889"
      },
      "source": [
        "# Preprocessor and feature engineering.\n",
        "def train_preprocessor(train_dataset):\n",
        "\n",
        "    # Drop rows with null values.\n",
        "    train_dataset = train_dataset.dropna(axis = 0, how ='any')\n",
        "\n",
        "    # Encode category coloumns with OneHotEncoding technique.\n",
        "    category_coloumn = train_dataset[\"TransactionType\"]\n",
        "    category_encoded = pd.get_dummies(data = category_coloumn, drop_first = True)\n",
        "\n",
        "    # Merge all features together.\n",
        "    other_features = [\"amount\", \"PrevBalanceSender\", \"CurrentBalanceSender\", \"PrevBalanceReceiver\", \"CurrentBalanceReceiver\", \"IsSuspicious\"]\n",
        "    train_dataset = category_encoded.join(train_dataset[other_features])\n",
        "    \n",
        "    return train_dataset\n",
        "\n",
        "train_dataset = train_preprocessor(train_dataset)\n",
        "train_dataset.head()"
      ],
      "execution_count": null,
      "outputs": [
        {
          "output_type": "execute_result",
          "data": {
            "text/html": [
              "<div>\n",
              "<style scoped>\n",
              "    .dataframe tbody tr th:only-of-type {\n",
              "        vertical-align: middle;\n",
              "    }\n",
              "\n",
              "    .dataframe tbody tr th {\n",
              "        vertical-align: top;\n",
              "    }\n",
              "\n",
              "    .dataframe thead th {\n",
              "        text-align: right;\n",
              "    }\n",
              "</style>\n",
              "<table border=\"1\" class=\"dataframe\">\n",
              "  <thead>\n",
              "    <tr style=\"text-align: right;\">\n",
              "      <th></th>\n",
              "      <th>Cash Deposit</th>\n",
              "      <th>Cash Withdrawal</th>\n",
              "      <th>Debit Card</th>\n",
              "      <th>Money Order</th>\n",
              "      <th>amount</th>\n",
              "      <th>PrevBalanceSender</th>\n",
              "      <th>CurrentBalanceSender</th>\n",
              "      <th>PrevBalanceReceiver</th>\n",
              "      <th>CurrentBalanceReceiver</th>\n",
              "      <th>IsSuspicious</th>\n",
              "    </tr>\n",
              "  </thead>\n",
              "  <tbody>\n",
              "    <tr>\n",
              "      <th>0</th>\n",
              "      <td>0</td>\n",
              "      <td>0</td>\n",
              "      <td>0</td>\n",
              "      <td>1</td>\n",
              "      <td>152372.18</td>\n",
              "      <td>152372.18</td>\n",
              "      <td>0.00</td>\n",
              "      <td>0.00</td>\n",
              "      <td>0.00</td>\n",
              "      <td>1</td>\n",
              "    </tr>\n",
              "    <tr>\n",
              "      <th>1</th>\n",
              "      <td>0</td>\n",
              "      <td>0</td>\n",
              "      <td>0</td>\n",
              "      <td>1</td>\n",
              "      <td>1539880.97</td>\n",
              "      <td>530514.00</td>\n",
              "      <td>0.00</td>\n",
              "      <td>744923.33</td>\n",
              "      <td>2284804.29</td>\n",
              "      <td>0</td>\n",
              "    </tr>\n",
              "    <tr>\n",
              "      <th>2</th>\n",
              "      <td>1</td>\n",
              "      <td>0</td>\n",
              "      <td>0</td>\n",
              "      <td>0</td>\n",
              "      <td>71514.14</td>\n",
              "      <td>28044.00</td>\n",
              "      <td>99558.14</td>\n",
              "      <td>81922.25</td>\n",
              "      <td>10408.12</td>\n",
              "      <td>0</td>\n",
              "    </tr>\n",
              "    <tr>\n",
              "      <th>4</th>\n",
              "      <td>1</td>\n",
              "      <td>0</td>\n",
              "      <td>0</td>\n",
              "      <td>0</td>\n",
              "      <td>65913.36</td>\n",
              "      <td>124336.14</td>\n",
              "      <td>190249.49</td>\n",
              "      <td>336237.28</td>\n",
              "      <td>270323.92</td>\n",
              "      <td>0</td>\n",
              "    </tr>\n",
              "    <tr>\n",
              "      <th>5</th>\n",
              "      <td>1</td>\n",
              "      <td>0</td>\n",
              "      <td>0</td>\n",
              "      <td>0</td>\n",
              "      <td>8785.84</td>\n",
              "      <td>11924687.58</td>\n",
              "      <td>11933473.42</td>\n",
              "      <td>2025093.96</td>\n",
              "      <td>2016308.11</td>\n",
              "      <td>0</td>\n",
              "    </tr>\n",
              "  </tbody>\n",
              "</table>\n",
              "</div>"
            ],
            "text/plain": [
              "   Cash Deposit  Cash Withdrawal  ...  CurrentBalanceReceiver  IsSuspicious\n",
              "0             0                0  ...                    0.00             1\n",
              "1             0                0  ...              2284804.29             0\n",
              "2             1                0  ...                10408.12             0\n",
              "4             1                0  ...               270323.92             0\n",
              "5             1                0  ...              2016308.11             0\n",
              "\n",
              "[5 rows x 10 columns]"
            ]
          },
          "metadata": {},
          "execution_count": 6
        }
      ]
    },
    {
      "cell_type": "markdown",
      "metadata": {
        "id": "gwH2UzjdqUBX"
      },
      "source": [
        "**TRAINING**"
      ]
    },
    {
      "cell_type": "markdown",
      "metadata": {
        "id": "5oNQTW8JCc2P"
      },
      "source": [
        "**DEFINE INPUT FEATURE SET**"
      ]
    },
    {
      "cell_type": "code",
      "metadata": {
        "colab": {
          "base_uri": "https://localhost:8080/",
          "height": 204
        },
        "id": "JQcLcjmIAZed",
        "outputId": "42a78782-de15-4107-e6ab-45d376153cf1"
      },
      "source": [
        "# Training input set.\n",
        "X_train = train_dataset.drop(\"IsSuspicious\", axis = 1)\n",
        "X_train.head()"
      ],
      "execution_count": null,
      "outputs": [
        {
          "output_type": "execute_result",
          "data": {
            "text/html": [
              "<div>\n",
              "<style scoped>\n",
              "    .dataframe tbody tr th:only-of-type {\n",
              "        vertical-align: middle;\n",
              "    }\n",
              "\n",
              "    .dataframe tbody tr th {\n",
              "        vertical-align: top;\n",
              "    }\n",
              "\n",
              "    .dataframe thead th {\n",
              "        text-align: right;\n",
              "    }\n",
              "</style>\n",
              "<table border=\"1\" class=\"dataframe\">\n",
              "  <thead>\n",
              "    <tr style=\"text-align: right;\">\n",
              "      <th></th>\n",
              "      <th>Cash Deposit</th>\n",
              "      <th>Cash Withdrawal</th>\n",
              "      <th>Debit Card</th>\n",
              "      <th>Money Order</th>\n",
              "      <th>amount</th>\n",
              "      <th>PrevBalanceSender</th>\n",
              "      <th>CurrentBalanceSender</th>\n",
              "      <th>PrevBalanceReceiver</th>\n",
              "      <th>CurrentBalanceReceiver</th>\n",
              "    </tr>\n",
              "  </thead>\n",
              "  <tbody>\n",
              "    <tr>\n",
              "      <th>0</th>\n",
              "      <td>0</td>\n",
              "      <td>0</td>\n",
              "      <td>0</td>\n",
              "      <td>1</td>\n",
              "      <td>152372.18</td>\n",
              "      <td>152372.18</td>\n",
              "      <td>0.00</td>\n",
              "      <td>0.00</td>\n",
              "      <td>0.00</td>\n",
              "    </tr>\n",
              "    <tr>\n",
              "      <th>1</th>\n",
              "      <td>0</td>\n",
              "      <td>0</td>\n",
              "      <td>0</td>\n",
              "      <td>1</td>\n",
              "      <td>1539880.97</td>\n",
              "      <td>530514.00</td>\n",
              "      <td>0.00</td>\n",
              "      <td>744923.33</td>\n",
              "      <td>2284804.29</td>\n",
              "    </tr>\n",
              "    <tr>\n",
              "      <th>2</th>\n",
              "      <td>1</td>\n",
              "      <td>0</td>\n",
              "      <td>0</td>\n",
              "      <td>0</td>\n",
              "      <td>71514.14</td>\n",
              "      <td>28044.00</td>\n",
              "      <td>99558.14</td>\n",
              "      <td>81922.25</td>\n",
              "      <td>10408.12</td>\n",
              "    </tr>\n",
              "    <tr>\n",
              "      <th>4</th>\n",
              "      <td>1</td>\n",
              "      <td>0</td>\n",
              "      <td>0</td>\n",
              "      <td>0</td>\n",
              "      <td>65913.36</td>\n",
              "      <td>124336.14</td>\n",
              "      <td>190249.49</td>\n",
              "      <td>336237.28</td>\n",
              "      <td>270323.92</td>\n",
              "    </tr>\n",
              "    <tr>\n",
              "      <th>5</th>\n",
              "      <td>1</td>\n",
              "      <td>0</td>\n",
              "      <td>0</td>\n",
              "      <td>0</td>\n",
              "      <td>8785.84</td>\n",
              "      <td>11924687.58</td>\n",
              "      <td>11933473.42</td>\n",
              "      <td>2025093.96</td>\n",
              "      <td>2016308.11</td>\n",
              "    </tr>\n",
              "  </tbody>\n",
              "</table>\n",
              "</div>"
            ],
            "text/plain": [
              "   Cash Deposit  Cash Withdrawal  ...  PrevBalanceReceiver  CurrentBalanceReceiver\n",
              "0             0                0  ...                 0.00                    0.00\n",
              "1             0                0  ...            744923.33              2284804.29\n",
              "2             1                0  ...             81922.25                10408.12\n",
              "4             1                0  ...            336237.28               270323.92\n",
              "5             1                0  ...           2025093.96              2016308.11\n",
              "\n",
              "[5 rows x 9 columns]"
            ]
          },
          "metadata": {},
          "execution_count": 7
        }
      ]
    },
    {
      "cell_type": "markdown",
      "metadata": {
        "id": "6Qw8OXyHDHbw"
      },
      "source": [
        "**DEFINE OUTPUT FEATURE SET**"
      ]
    },
    {
      "cell_type": "code",
      "metadata": {
        "colab": {
          "base_uri": "https://localhost:8080/",
          "height": 204
        },
        "id": "KsreDbRS9evQ",
        "outputId": "9042fbf3-4204-422b-a6e4-cf23ff6c7d5f"
      },
      "source": [
        "# Training output set.\n",
        "train_output_feature = [\"IsSuspicious\"]\n",
        "y_train = train_dataset[train_output_feature]\n",
        "y_train.head()"
      ],
      "execution_count": null,
      "outputs": [
        {
          "output_type": "execute_result",
          "data": {
            "text/html": [
              "<div>\n",
              "<style scoped>\n",
              "    .dataframe tbody tr th:only-of-type {\n",
              "        vertical-align: middle;\n",
              "    }\n",
              "\n",
              "    .dataframe tbody tr th {\n",
              "        vertical-align: top;\n",
              "    }\n",
              "\n",
              "    .dataframe thead th {\n",
              "        text-align: right;\n",
              "    }\n",
              "</style>\n",
              "<table border=\"1\" class=\"dataframe\">\n",
              "  <thead>\n",
              "    <tr style=\"text-align: right;\">\n",
              "      <th></th>\n",
              "      <th>IsSuspicious</th>\n",
              "    </tr>\n",
              "  </thead>\n",
              "  <tbody>\n",
              "    <tr>\n",
              "      <th>0</th>\n",
              "      <td>1</td>\n",
              "    </tr>\n",
              "    <tr>\n",
              "      <th>1</th>\n",
              "      <td>0</td>\n",
              "    </tr>\n",
              "    <tr>\n",
              "      <th>2</th>\n",
              "      <td>0</td>\n",
              "    </tr>\n",
              "    <tr>\n",
              "      <th>4</th>\n",
              "      <td>0</td>\n",
              "    </tr>\n",
              "    <tr>\n",
              "      <th>5</th>\n",
              "      <td>0</td>\n",
              "    </tr>\n",
              "  </tbody>\n",
              "</table>\n",
              "</div>"
            ],
            "text/plain": [
              "   IsSuspicious\n",
              "0             1\n",
              "1             0\n",
              "2             0\n",
              "4             0\n",
              "5             0"
            ]
          },
          "metadata": {},
          "execution_count": 8
        }
      ]
    },
    {
      "cell_type": "markdown",
      "metadata": {
        "id": "zSoEl8P6DO7N"
      },
      "source": [
        "**SPLIT DATASET INTO TRAIN AND TEST SETS**\n"
      ]
    },
    {
      "cell_type": "code",
      "metadata": {
        "id": "-5tuRfpt_QqH"
      },
      "source": [
        "# Split training data into training set and testing set.\n",
        "train_X, val_X, train_y, val_y = train_test_split(X_train, y_train, random_state = 0)"
      ],
      "execution_count": null,
      "outputs": []
    },
    {
      "cell_type": "markdown",
      "metadata": {
        "id": "VZ2ILH6FpccC"
      },
      "source": [
        "**FUNCTION FOR TRAINING, TESTING AND SAVING DIFFERENT MODELS**"
      ]
    },
    {
      "cell_type": "code",
      "metadata": {
        "id": "Leietsw5-aiP"
      },
      "source": [
        "# Train, Test and Save a model.\n",
        "def run_model(classifier_name, classifier_model, train_X, train_y, val_X, val_y):\n",
        "\n",
        "    # Model initialization.\n",
        "    classifier = classifier_model\n",
        "\n",
        "    # Model training.\n",
        "    classifier.fit(train_X, train_y)\n",
        "\n",
        "    # Model prediction.\n",
        "    predictions = classifier.predict(val_X)\n",
        "\n",
        "    # Save model to disk.\n",
        "    filename = classifier_name + \".sav\"\n",
        "    pickle.dump(classifier, open(filename, 'wb'))\n",
        "\n",
        "    # Calculate mean absolute error.\n",
        "    print(\"\\n Mean absolute error of \" + classifier_name + \" : \" + str(mean_absolute_error(val_y, predictions)) + \"\\n\")\n",
        "\n",
        "    # Plot confusion matrix.\n",
        "    print(\"\\n Confusion Matrix :\\n\")\n",
        "    plot_confusion_matrix(classifier, val_X, val_y)\n",
        "    plt.show()\n",
        "\n",
        "    # Plot feature importance.\n",
        "    print(\"\\n Feature Importance :\\n\")\n",
        "    classifier_perm = PermutationImportance(classifier, random_state=1).fit(val_X, val_y)\n",
        "    return eli5.show_weights(classifier_perm, feature_names = val_X.columns.tolist())"
      ],
      "execution_count": null,
      "outputs": []
    },
    {
      "cell_type": "markdown",
      "metadata": {
        "id": "9eiqEiz3DbyG"
      },
      "source": [
        "**MODEL : DECISION TREE CLASSIFIER**"
      ]
    },
    {
      "cell_type": "code",
      "metadata": {
        "colab": {
          "base_uri": "https://localhost:8080/",
          "height": 602
        },
        "id": "S9hrq7Snpab9",
        "outputId": "9ea8b1ee-97c1-4dd5-ba5f-ed731f3b09f8"
      },
      "source": [
        "# Decision Tree Classifier.\n",
        "run_model(\"Decision Tree Classifier\", DecisionTreeClassifier(random_state=1), train_X, train_y, val_X, val_y)"
      ],
      "execution_count": null,
      "outputs": [
        {
          "output_type": "stream",
          "name": "stdout",
          "text": [
            "\n",
            " Mean absolute error of Decision Tree Classifier : 0.018028846153846152\n",
            "\n",
            "\n",
            " Confusion Matrix :\n",
            "\n"
          ]
        },
        {
          "output_type": "display_data",
          "data": {
            "image/png": "[encoded data removed]",
            "text/plain": [
              "<Figure size 432x288 with 2 Axes>"
            ]
          },
          "metadata": {
            "needs_background": "light"
          }
        },
        {
          "output_type": "stream",
          "name": "stdout",
          "text": [
            "\n",
            " Feature Importance :\n",
            "\n"
          ]
        },
        {
          "output_type": "execute_result",
          "data": {
            "text/html": [
              "\n",
              "    <style>\n",
              "    table.eli5-weights tr:hover {\n",
              "        filter: brightness(85%);\n",
              "    }\n",
              "</style>\n",
              "\n",
              "\n",
              "\n",
              "    \n",
              "\n",
              "    \n",
              "\n",
              "    \n",
              "\n",
              "    \n",
              "\n",
              "    \n",
              "\n",
              "    \n",
              "\n",
              "\n",
              "    \n",
              "\n",
              "    \n",
              "\n",
              "    \n",
              "\n",
              "    \n",
              "\n",
              "    \n",
              "\n",
              "    \n",
              "\n",
              "\n",
              "    \n",
              "\n",
              "    \n",
              "\n",
              "    \n",
              "\n",
              "    \n",
              "\n",
              "    \n",
              "        <table class=\"eli5-weights eli5-feature-importances\" style=\"border-collapse: collapse; border: none; margin-top: 0em; table-layout: auto;\">\n",
              "    <thead>\n",
              "    <tr style=\"border: none;\">\n",
              "        <th style=\"padding: 0 1em 0 0.5em; text-align: right; border: none;\">Weight</th>\n",
              "        <th style=\"padding: 0 0.5em 0 0.5em; text-align: left; border: none;\">Feature</th>\n",
              "    </tr>\n",
              "    </thead>\n",
              "    <tbody>\n",
              "    \n",
              "        <tr style=\"background-color: hsl(120, 100.00%, 80.00%); border: none;\">\n",
              "            <td style=\"padding: 0 1em 0 0.5em; text-align: right; border: none;\">\n",
              "                0.1082\n",
              "                \n",
              "                    &plusmn; 0.0117\n",
              "                \n",
              "            </td>\n",
              "            <td style=\"padding: 0 0.5em 0 0.5em; text-align: left; border: none;\">\n",
              "                PrevBalanceSender\n",
              "            </td>\n",
              "        </tr>\n",
              "    \n",
              "        <tr style=\"background-color: hsl(120, 100.00%, 84.14%); border: none;\">\n",
              "            <td style=\"padding: 0 1em 0 0.5em; text-align: right; border: none;\">\n",
              "                0.0776\n",
              "                \n",
              "                    &plusmn; 0.0029\n",
              "                \n",
              "            </td>\n",
              "            <td style=\"padding: 0 0.5em 0 0.5em; text-align: left; border: none;\">\n",
              "                Money Order\n",
              "            </td>\n",
              "        </tr>\n",
              "    \n",
              "        <tr style=\"background-color: hsl(120, 100.00%, 84.87%); border: none;\">\n",
              "            <td style=\"padding: 0 1em 0 0.5em; text-align: right; border: none;\">\n",
              "                0.0726\n",
              "                \n",
              "                    &plusmn; 0.0078\n",
              "                \n",
              "            </td>\n",
              "            <td style=\"padding: 0 0.5em 0 0.5em; text-align: left; border: none;\">\n",
              "                PrevBalanceReceiver\n",
              "            </td>\n",
              "        </tr>\n",
              "    \n",
              "        <tr style=\"background-color: hsl(120, 100.00%, 89.97%); border: none;\">\n",
              "            <td style=\"padding: 0 1em 0 0.5em; text-align: right; border: none;\">\n",
              "                0.0404\n",
              "                \n",
              "                    &plusmn; 0.0033\n",
              "                \n",
              "            </td>\n",
              "            <td style=\"padding: 0 0.5em 0 0.5em; text-align: left; border: none;\">\n",
              "                CurrentBalanceReceiver\n",
              "            </td>\n",
              "        </tr>\n",
              "    \n",
              "        <tr style=\"background-color: hsl(120, 100.00%, 91.66%); border: none;\">\n",
              "            <td style=\"padding: 0 1em 0 0.5em; text-align: right; border: none;\">\n",
              "                0.0310\n",
              "                \n",
              "                    &plusmn; 0.0095\n",
              "                \n",
              "            </td>\n",
              "            <td style=\"padding: 0 0.5em 0 0.5em; text-align: left; border: none;\">\n",
              "                CurrentBalanceSender\n",
              "            </td>\n",
              "        </tr>\n",
              "    \n",
              "        <tr style=\"background-color: hsl(120, 100.00%, 92.16%); border: none;\">\n",
              "            <td style=\"padding: 0 1em 0 0.5em; text-align: right; border: none;\">\n",
              "                0.0284\n",
              "                \n",
              "                    &plusmn; 0.0072\n",
              "                \n",
              "            </td>\n",
              "            <td style=\"padding: 0 0.5em 0 0.5em; text-align: left; border: none;\">\n",
              "                Cash Withdrawal\n",
              "            </td>\n",
              "        </tr>\n",
              "    \n",
              "        <tr style=\"background-color: hsl(120, 100.00%, 92.30%); border: none;\">\n",
              "            <td style=\"padding: 0 1em 0 0.5em; text-align: right; border: none;\">\n",
              "                0.0276\n",
              "                \n",
              "                    &plusmn; 0.0133\n",
              "                \n",
              "            </td>\n",
              "            <td style=\"padding: 0 0.5em 0 0.5em; text-align: left; border: none;\">\n",
              "                amount\n",
              "            </td>\n",
              "        </tr>\n",
              "    \n",
              "        <tr style=\"background-color: hsl(0, 100.00%, 100.00%); border: none;\">\n",
              "            <td style=\"padding: 0 1em 0 0.5em; text-align: right; border: none;\">\n",
              "                0\n",
              "                \n",
              "                    &plusmn; 0.0000\n",
              "                \n",
              "            </td>\n",
              "            <td style=\"padding: 0 0.5em 0 0.5em; text-align: left; border: none;\">\n",
              "                Debit Card\n",
              "            </td>\n",
              "        </tr>\n",
              "    \n",
              "        <tr style=\"background-color: hsl(0, 100.00%, 100.00%); border: none;\">\n",
              "            <td style=\"padding: 0 1em 0 0.5em; text-align: right; border: none;\">\n",
              "                0\n",
              "                \n",
              "                    &plusmn; 0.0000\n",
              "                \n",
              "            </td>\n",
              "            <td style=\"padding: 0 0.5em 0 0.5em; text-align: left; border: none;\">\n",
              "                Cash Deposit\n",
              "            </td>\n",
              "        </tr>\n",
              "    \n",
              "    \n",
              "    </tbody>\n",
              "</table>\n",
              "    \n",
              "\n",
              "    \n",
              "\n",
              "\n",
              "    \n",
              "\n",
              "    \n",
              "\n",
              "    \n",
              "\n",
              "    \n",
              "\n",
              "    \n",
              "\n",
              "    \n",
              "\n",
              "\n",
              "\n"
            ],
            "text/plain": [
              "<IPython.core.display.HTML object>"
            ]
          },
          "metadata": {},
          "execution_count": 35
        }
      ]
    },
    {
      "cell_type": "markdown",
      "metadata": {
        "id": "2wEZuyA0MpuT"
      },
      "source": [
        "**MODEL : RANDOM FOREST CLASSIFIER**"
      ]
    },
    {
      "cell_type": "code",
      "metadata": {
        "colab": {
          "base_uri": "https://localhost:8080/",
          "height": 656
        },
        "id": "TZ2xKNNYMtwj",
        "outputId": "670c767d-d0c5-475b-f2b3-5ce9a05348e6"
      },
      "source": [
        "# Random Forest Classifier.\n",
        "run_model(\"Random Forest Classifier\", RandomForestClassifier(n_estimators=100, random_state=1), train_X, train_y, val_X, val_y)"
      ],
      "execution_count": null,
      "outputs": [
        {
          "output_type": "stream",
          "name": "stderr",
          "text": [
            "/usr/local/lib/python3.7/dist-packages/ipykernel_launcher.py:3: DataConversionWarning: A column-vector y was passed when a 1d array was expected. Please change the shape of y to (n_samples,), for example using ravel().\n",
            "  This is separate from the ipykernel package so we can avoid doing imports until\n"
          ]
        },
        {
          "output_type": "stream",
          "name": "stdout",
          "text": [
            "\n",
            " Mean absolute error of Random Forest Classifier : 0.016826923076923076\n",
            "\n",
            "\n",
            " Confusion Matrix :\n",
            "\n"
          ]
        },
        {
          "output_type": "display_data",
          "data": {
            "image/png": "[encoded data removed]",
            "text/plain": [
              "<Figure size 432x288 with 2 Axes>"
            ]
          },
          "metadata": {
            "needs_background": "light"
          }
        },
        {
          "output_type": "stream",
          "name": "stdout",
          "text": [
            "\n",
            " Feature Importance :\n",
            "\n"
          ]
        },
        {
          "output_type": "execute_result",
          "data": {
            "text/html": [
              "\n",
              "    <style>\n",
              "    table.eli5-weights tr:hover {\n",
              "        filter: brightness(85%);\n",
              "    }\n",
              "</style>\n",
              "\n",
              "\n",
              "\n",
              "    \n",
              "\n",
              "    \n",
              "\n",
              "    \n",
              "\n",
              "    \n",
              "\n",
              "    \n",
              "\n",
              "    \n",
              "\n",
              "\n",
              "    \n",
              "\n",
              "    \n",
              "\n",
              "    \n",
              "\n",
              "    \n",
              "\n",
              "    \n",
              "\n",
              "    \n",
              "\n",
              "\n",
              "    \n",
              "\n",
              "    \n",
              "\n",
              "    \n",
              "\n",
              "    \n",
              "\n",
              "    \n",
              "        <table class=\"eli5-weights eli5-feature-importances\" style=\"border-collapse: collapse; border: none; margin-top: 0em; table-layout: auto;\">\n",
              "    <thead>\n",
              "    <tr style=\"border: none;\">\n",
              "        <th style=\"padding: 0 1em 0 0.5em; text-align: right; border: none;\">Weight</th>\n",
              "        <th style=\"padding: 0 0.5em 0 0.5em; text-align: left; border: none;\">Feature</th>\n",
              "    </tr>\n",
              "    </thead>\n",
              "    <tbody>\n",
              "    \n",
              "        <tr style=\"background-color: hsl(120, 100.00%, 80.00%); border: none;\">\n",
              "            <td style=\"padding: 0 1em 0 0.5em; text-align: right; border: none;\">\n",
              "                0.1029\n",
              "                \n",
              "                    &plusmn; 0.0151\n",
              "                \n",
              "            </td>\n",
              "            <td style=\"padding: 0 0.5em 0 0.5em; text-align: left; border: none;\">\n",
              "                PrevBalanceSender\n",
              "            </td>\n",
              "        </tr>\n",
              "    \n",
              "        <tr style=\"background-color: hsl(120, 100.00%, 85.74%); border: none;\">\n",
              "            <td style=\"padding: 0 1em 0 0.5em; text-align: right; border: none;\">\n",
              "                0.0635\n",
              "                \n",
              "                    &plusmn; 0.0051\n",
              "                \n",
              "            </td>\n",
              "            <td style=\"padding: 0 0.5em 0 0.5em; text-align: left; border: none;\">\n",
              "                Money Order\n",
              "            </td>\n",
              "        </tr>\n",
              "    \n",
              "        <tr style=\"background-color: hsl(120, 100.00%, 91.69%); border: none;\">\n",
              "            <td style=\"padding: 0 1em 0 0.5em; text-align: right; border: none;\">\n",
              "                0.0293\n",
              "                \n",
              "                    &plusmn; 0.0112\n",
              "                \n",
              "            </td>\n",
              "            <td style=\"padding: 0 0.5em 0 0.5em; text-align: left; border: none;\">\n",
              "                CurrentBalanceSender\n",
              "            </td>\n",
              "        </tr>\n",
              "    \n",
              "        <tr style=\"background-color: hsl(120, 100.00%, 94.20%); border: none;\">\n",
              "            <td style=\"padding: 0 1em 0 0.5em; text-align: right; border: none;\">\n",
              "                0.0175\n",
              "                \n",
              "                    &plusmn; 0.0045\n",
              "                \n",
              "            </td>\n",
              "            <td style=\"padding: 0 0.5em 0 0.5em; text-align: left; border: none;\">\n",
              "                CurrentBalanceReceiver\n",
              "            </td>\n",
              "        </tr>\n",
              "    \n",
              "        <tr style=\"background-color: hsl(120, 100.00%, 97.11%); border: none;\">\n",
              "            <td style=\"padding: 0 1em 0 0.5em; text-align: right; border: none;\">\n",
              "                0.0065\n",
              "                \n",
              "                    &plusmn; 0.0025\n",
              "                \n",
              "            </td>\n",
              "            <td style=\"padding: 0 0.5em 0 0.5em; text-align: left; border: none;\">\n",
              "                amount\n",
              "            </td>\n",
              "        </tr>\n",
              "    \n",
              "        <tr style=\"background-color: hsl(120, 100.00%, 97.50%); border: none;\">\n",
              "            <td style=\"padding: 0 1em 0 0.5em; text-align: right; border: none;\">\n",
              "                0.0053\n",
              "                \n",
              "                    &plusmn; 0.0054\n",
              "                \n",
              "            </td>\n",
              "            <td style=\"padding: 0 0.5em 0 0.5em; text-align: left; border: none;\">\n",
              "                PrevBalanceReceiver\n",
              "            </td>\n",
              "        </tr>\n",
              "    \n",
              "        <tr style=\"background-color: hsl(120, 100.00%, 97.66%); border: none;\">\n",
              "            <td style=\"padding: 0 1em 0 0.5em; text-align: right; border: none;\">\n",
              "                0.0048\n",
              "                \n",
              "                    &plusmn; 0.0053\n",
              "                \n",
              "            </td>\n",
              "            <td style=\"padding: 0 0.5em 0 0.5em; text-align: left; border: none;\">\n",
              "                Cash Withdrawal\n",
              "            </td>\n",
              "        </tr>\n",
              "    \n",
              "        <tr style=\"background-color: hsl(120, 100.00%, 99.71%); border: none;\">\n",
              "            <td style=\"padding: 0 1em 0 0.5em; text-align: right; border: none;\">\n",
              "                0.0002\n",
              "                \n",
              "                    &plusmn; 0.0018\n",
              "                \n",
              "            </td>\n",
              "            <td style=\"padding: 0 0.5em 0 0.5em; text-align: left; border: none;\">\n",
              "                Cash Deposit\n",
              "            </td>\n",
              "        </tr>\n",
              "    \n",
              "        <tr style=\"background-color: hsl(0, 100.00%, 100.00%); border: none;\">\n",
              "            <td style=\"padding: 0 1em 0 0.5em; text-align: right; border: none;\">\n",
              "                0\n",
              "                \n",
              "                    &plusmn; 0.0000\n",
              "                \n",
              "            </td>\n",
              "            <td style=\"padding: 0 0.5em 0 0.5em; text-align: left; border: none;\">\n",
              "                Debit Card\n",
              "            </td>\n",
              "        </tr>\n",
              "    \n",
              "    \n",
              "    </tbody>\n",
              "</table>\n",
              "    \n",
              "\n",
              "    \n",
              "\n",
              "\n",
              "    \n",
              "\n",
              "    \n",
              "\n",
              "    \n",
              "\n",
              "    \n",
              "\n",
              "    \n",
              "\n",
              "    \n",
              "\n",
              "\n",
              "\n"
            ],
            "text/plain": [
              "<IPython.core.display.HTML object>"
            ]
          },
          "metadata": {},
          "execution_count": 36
        }
      ]
    },
    {
      "cell_type": "markdown",
      "metadata": {
        "id": "j8dNXb0CsTow"
      },
      "source": [
        "**MODEL - GAUSSIAN NAIVE BAYES CLASSIFIER**"
      ]
    },
    {
      "cell_type": "code",
      "metadata": {
        "colab": {
          "base_uri": "https://localhost:8080/",
          "height": 656
        },
        "id": "Dqer3FRbsZ5e",
        "outputId": "3e51ded1-7238-4242-d46e-8b35114acd8c"
      },
      "source": [
        "# Gaussian Naive Bayes Classsifier.\n",
        "run_model(\"Gaussian Naive Bayes Classifier\", GaussianNB(), train_X, train_y, val_X, val_y)"
      ],
      "execution_count": null,
      "outputs": [
        {
          "output_type": "stream",
          "name": "stdout",
          "text": [
            "\n",
            " Mean absolute error of Gaussian Naive Bayes Classifier : 0.0829326923076923\n",
            "\n",
            "\n",
            " Confusion Matrix :\n",
            "\n"
          ]
        },
        {
          "output_type": "stream",
          "name": "stderr",
          "text": [
            "/usr/local/lib/python3.7/dist-packages/sklearn/naive_bayes.py:206: DataConversionWarning: A column-vector y was passed when a 1d array was expected. Please change the shape of y to (n_samples, ), for example using ravel().\n",
            "  y = column_or_1d(y, warn=True)\n"
          ]
        },
        {
          "output_type": "display_data",
          "data": {
            "image/png": "[encoded data removed]",
            "text/plain": [
              "<Figure size 432x288 with 2 Axes>"
            ]
          },
          "metadata": {
            "needs_background": "light"
          }
        },
        {
          "output_type": "stream",
          "name": "stdout",
          "text": [
            "\n",
            " Feature Importance :\n",
            "\n"
          ]
        },
        {
          "output_type": "execute_result",
          "data": {
            "text/html": [
              "\n",
              "    <style>\n",
              "    table.eli5-weights tr:hover {\n",
              "        filter: brightness(85%);\n",
              "    }\n",
              "</style>\n",
              "\n",
              "\n",
              "\n",
              "    \n",
              "\n",
              "    \n",
              "\n",
              "    \n",
              "\n",
              "    \n",
              "\n",
              "    \n",
              "\n",
              "    \n",
              "\n",
              "\n",
              "    \n",
              "\n",
              "    \n",
              "\n",
              "    \n",
              "\n",
              "    \n",
              "\n",
              "    \n",
              "\n",
              "    \n",
              "\n",
              "\n",
              "    \n",
              "\n",
              "    \n",
              "\n",
              "    \n",
              "\n",
              "    \n",
              "\n",
              "    \n",
              "        <table class=\"eli5-weights eli5-feature-importances\" style=\"border-collapse: collapse; border: none; margin-top: 0em; table-layout: auto;\">\n",
              "    <thead>\n",
              "    <tr style=\"border: none;\">\n",
              "        <th style=\"padding: 0 1em 0 0.5em; text-align: right; border: none;\">Weight</th>\n",
              "        <th style=\"padding: 0 0.5em 0 0.5em; text-align: left; border: none;\">Feature</th>\n",
              "    </tr>\n",
              "    </thead>\n",
              "    <tbody>\n",
              "    \n",
              "        <tr style=\"background-color: hsl(120, 100.00%, 80.00%); border: none;\">\n",
              "            <td style=\"padding: 0 1em 0 0.5em; text-align: right; border: none;\">\n",
              "                0.0534\n",
              "                \n",
              "                    &plusmn; 0.0045\n",
              "                \n",
              "            </td>\n",
              "            <td style=\"padding: 0 0.5em 0 0.5em; text-align: left; border: none;\">\n",
              "                amount\n",
              "            </td>\n",
              "        </tr>\n",
              "    \n",
              "        <tr style=\"background-color: hsl(120, 100.00%, 95.79%); border: none;\">\n",
              "            <td style=\"padding: 0 1em 0 0.5em; text-align: right; border: none;\">\n",
              "                0.0058\n",
              "                \n",
              "                    &plusmn; 0.0054\n",
              "                \n",
              "            </td>\n",
              "            <td style=\"padding: 0 0.5em 0 0.5em; text-align: left; border: none;\">\n",
              "                PrevBalanceSender\n",
              "            </td>\n",
              "        </tr>\n",
              "    \n",
              "        <tr style=\"background-color: hsl(120, 100.00%, 95.91%); border: none;\">\n",
              "            <td style=\"padding: 0 1em 0 0.5em; text-align: right; border: none;\">\n",
              "                0.0055\n",
              "                \n",
              "                    &plusmn; 0.0033\n",
              "                \n",
              "            </td>\n",
              "            <td style=\"padding: 0 0.5em 0 0.5em; text-align: left; border: none;\">\n",
              "                CurrentBalanceSender\n",
              "            </td>\n",
              "        </tr>\n",
              "    \n",
              "        <tr style=\"background-color: hsl(120, 100.00%, 97.56%); border: none;\">\n",
              "            <td style=\"padding: 0 1em 0 0.5em; text-align: right; border: none;\">\n",
              "                0.0026\n",
              "                \n",
              "                    &plusmn; 0.0024\n",
              "                \n",
              "            </td>\n",
              "            <td style=\"padding: 0 0.5em 0 0.5em; text-align: left; border: none;\">\n",
              "                PrevBalanceReceiver\n",
              "            </td>\n",
              "        </tr>\n",
              "    \n",
              "        <tr style=\"background-color: hsl(120, 100.00%, 99.54%); border: none;\">\n",
              "            <td style=\"padding: 0 1em 0 0.5em; text-align: right; border: none;\">\n",
              "                0.0002\n",
              "                \n",
              "                    &plusmn; 0.0010\n",
              "                \n",
              "            </td>\n",
              "            <td style=\"padding: 0 0.5em 0 0.5em; text-align: left; border: none;\">\n",
              "                CurrentBalanceReceiver\n",
              "            </td>\n",
              "        </tr>\n",
              "    \n",
              "        <tr style=\"background-color: hsl(0, 100.00%, 100.00%); border: none;\">\n",
              "            <td style=\"padding: 0 1em 0 0.5em; text-align: right; border: none;\">\n",
              "                0\n",
              "                \n",
              "                    &plusmn; 0.0000\n",
              "                \n",
              "            </td>\n",
              "            <td style=\"padding: 0 0.5em 0 0.5em; text-align: left; border: none;\">\n",
              "                Money Order\n",
              "            </td>\n",
              "        </tr>\n",
              "    \n",
              "        <tr style=\"background-color: hsl(0, 100.00%, 100.00%); border: none;\">\n",
              "            <td style=\"padding: 0 1em 0 0.5em; text-align: right; border: none;\">\n",
              "                0\n",
              "                \n",
              "                    &plusmn; 0.0000\n",
              "                \n",
              "            </td>\n",
              "            <td style=\"padding: 0 0.5em 0 0.5em; text-align: left; border: none;\">\n",
              "                Debit Card\n",
              "            </td>\n",
              "        </tr>\n",
              "    \n",
              "        <tr style=\"background-color: hsl(0, 100.00%, 100.00%); border: none;\">\n",
              "            <td style=\"padding: 0 1em 0 0.5em; text-align: right; border: none;\">\n",
              "                0\n",
              "                \n",
              "                    &plusmn; 0.0000\n",
              "                \n",
              "            </td>\n",
              "            <td style=\"padding: 0 0.5em 0 0.5em; text-align: left; border: none;\">\n",
              "                Cash Withdrawal\n",
              "            </td>\n",
              "        </tr>\n",
              "    \n",
              "        <tr style=\"background-color: hsl(0, 100.00%, 100.00%); border: none;\">\n",
              "            <td style=\"padding: 0 1em 0 0.5em; text-align: right; border: none;\">\n",
              "                0\n",
              "                \n",
              "                    &plusmn; 0.0000\n",
              "                \n",
              "            </td>\n",
              "            <td style=\"padding: 0 0.5em 0 0.5em; text-align: left; border: none;\">\n",
              "                Cash Deposit\n",
              "            </td>\n",
              "        </tr>\n",
              "    \n",
              "    \n",
              "    </tbody>\n",
              "</table>\n",
              "    \n",
              "\n",
              "    \n",
              "\n",
              "\n",
              "    \n",
              "\n",
              "    \n",
              "\n",
              "    \n",
              "\n",
              "    \n",
              "\n",
              "    \n",
              "\n",
              "    \n",
              "\n",
              "\n",
              "\n"
            ],
            "text/plain": [
              "<IPython.core.display.HTML object>"
            ]
          },
          "metadata": {},
          "execution_count": 37
        }
      ]
    },
    {
      "cell_type": "markdown",
      "metadata": {
        "id": "TGyTQYxYsfpl"
      },
      "source": [
        "**TESTING**"
      ]
    },
    {
      "cell_type": "markdown",
      "metadata": {
        "id": "XtGjLSuJq73n"
      },
      "source": [
        "**LOAD TEST DATASET**"
      ]
    },
    {
      "cell_type": "code",
      "metadata": {
        "id": "Q68KYSS2q-Qu"
      },
      "source": [
        "# Load testing dataset.\n",
        "test_dataset = pd.read_csv(\"aml_eval.csv\").copy()"
      ],
      "execution_count": null,
      "outputs": []
    },
    {
      "cell_type": "markdown",
      "metadata": {
        "id": "_cbwxHhft9bo"
      },
      "source": [
        "**PREPROCESSOR**"
      ]
    },
    {
      "cell_type": "code",
      "metadata": {
        "colab": {
          "base_uri": "https://localhost:8080/",
          "height": 204
        },
        "id": "WE_vhhvMuCzo",
        "outputId": "f27664ba-97d0-48d7-e583-97111a3e1c43"
      },
      "source": [
        "# Preprocessor and feature engineering.\n",
        "def test_preprocessor(test_dataset):\n",
        "\n",
        "    # Drop rows with null values.\n",
        "    test_dataset = test_dataset.dropna(axis = 0, how ='any')\n",
        "\n",
        "    # Encode category coloumns with OneHotEncoding technique.\n",
        "    category_coloumn = test_dataset[\"TransactionType\"]\n",
        "    category_encoded = pd.get_dummies(data = category_coloumn, drop_first = True)\n",
        "\n",
        "    # Merge all features together.\n",
        "    other_features = [\"amount\", \"PrevBalanceSender\", \"CurrentBalanceSender\", \"PrevBalanceReceiver\", \"CurrentBalanceReceiver\"]\n",
        "    test_dataset = category_encoded.join(test_dataset[other_features])\n",
        "    \n",
        "    return test_dataset\n",
        "\n",
        "test_dataset = test_preprocessor(test_dataset)\n",
        "test_dataset.head()"
      ],
      "execution_count": null,
      "outputs": [
        {
          "output_type": "execute_result",
          "data": {
            "text/html": [
              "<div>\n",
              "<style scoped>\n",
              "    .dataframe tbody tr th:only-of-type {\n",
              "        vertical-align: middle;\n",
              "    }\n",
              "\n",
              "    .dataframe tbody tr th {\n",
              "        vertical-align: top;\n",
              "    }\n",
              "\n",
              "    .dataframe thead th {\n",
              "        text-align: right;\n",
              "    }\n",
              "</style>\n",
              "<table border=\"1\" class=\"dataframe\">\n",
              "  <thead>\n",
              "    <tr style=\"text-align: right;\">\n",
              "      <th></th>\n",
              "      <th>Cash Deposit</th>\n",
              "      <th>Cash Withdrawal</th>\n",
              "      <th>Debit Card</th>\n",
              "      <th>Money Order</th>\n",
              "      <th>amount</th>\n",
              "      <th>PrevBalanceSender</th>\n",
              "      <th>CurrentBalanceSender</th>\n",
              "      <th>PrevBalanceReceiver</th>\n",
              "      <th>CurrentBalanceReceiver</th>\n",
              "    </tr>\n",
              "  </thead>\n",
              "  <tbody>\n",
              "    <tr>\n",
              "      <th>0</th>\n",
              "      <td>0</td>\n",
              "      <td>0</td>\n",
              "      <td>0</td>\n",
              "      <td>0</td>\n",
              "      <td>2976.90</td>\n",
              "      <td>0.00</td>\n",
              "      <td>0.00</td>\n",
              "      <td>0.00</td>\n",
              "      <td>0.00</td>\n",
              "    </tr>\n",
              "    <tr>\n",
              "      <th>1</th>\n",
              "      <td>0</td>\n",
              "      <td>1</td>\n",
              "      <td>0</td>\n",
              "      <td>0</td>\n",
              "      <td>107320.81</td>\n",
              "      <td>107320.81</td>\n",
              "      <td>0.00</td>\n",
              "      <td>289571.44</td>\n",
              "      <td>396892.25</td>\n",
              "    </tr>\n",
              "    <tr>\n",
              "      <th>2</th>\n",
              "      <td>0</td>\n",
              "      <td>0</td>\n",
              "      <td>0</td>\n",
              "      <td>1</td>\n",
              "      <td>84312.29</td>\n",
              "      <td>84312.29</td>\n",
              "      <td>0.00</td>\n",
              "      <td>0.00</td>\n",
              "      <td>0.00</td>\n",
              "    </tr>\n",
              "    <tr>\n",
              "      <th>3</th>\n",
              "      <td>1</td>\n",
              "      <td>0</td>\n",
              "      <td>0</td>\n",
              "      <td>0</td>\n",
              "      <td>153757.28</td>\n",
              "      <td>1821016.76</td>\n",
              "      <td>1974774.04</td>\n",
              "      <td>759756.00</td>\n",
              "      <td>605998.72</td>\n",
              "    </tr>\n",
              "    <tr>\n",
              "      <th>4</th>\n",
              "      <td>0</td>\n",
              "      <td>0</td>\n",
              "      <td>0</td>\n",
              "      <td>0</td>\n",
              "      <td>5182.58</td>\n",
              "      <td>21447.00</td>\n",
              "      <td>16264.42</td>\n",
              "      <td>0.00</td>\n",
              "      <td>0.00</td>\n",
              "    </tr>\n",
              "  </tbody>\n",
              "</table>\n",
              "</div>"
            ],
            "text/plain": [
              "   Cash Deposit  Cash Withdrawal  ...  PrevBalanceReceiver  CurrentBalanceReceiver\n",
              "0             0                0  ...                 0.00                    0.00\n",
              "1             0                1  ...            289571.44               396892.25\n",
              "2             0                0  ...                 0.00                    0.00\n",
              "3             1                0  ...            759756.00               605998.72\n",
              "4             0                0  ...                 0.00                    0.00\n",
              "\n",
              "[5 rows x 9 columns]"
            ]
          },
          "metadata": {},
          "execution_count": 39
        }
      ]
    },
    {
      "cell_type": "markdown",
      "metadata": {
        "id": "6uqjJkixsv5Z"
      },
      "source": [
        "**LOAD MODEL FROM DISK**"
      ]
    },
    {
      "cell_type": "code",
      "metadata": {
        "colab": {
          "base_uri": "https://localhost:8080/"
        },
        "id": "NY8U_8K1szmz",
        "outputId": "0f977c15-3773-40e7-9fe7-46dcce7a4062"
      },
      "source": [
        "# Load saved model with low mean square error from disk.\n",
        "test_model_filename = \"Random Forest Classifier.sav\"\n",
        "loaded_model = pickle.load(open(test_model_filename, 'rb'))"
      ],
      "execution_count": null,
      "outputs": [
        {
          "output_type": "stream",
          "name": "stdout",
          "text": [
            "[0 0 1 0 0 0 0 0 0 0 0 0 0 1 0 0 0 1 0 0 0 0 0 0 0 0 0 0 0 0 0 0 0 0 0 0 0\n",
            " 0 0 1 0 0 1 0 0 0 0 0 0 1 0 0 0 1 1 1 0 0 0 0 0 0 0 0 0 0 0 0 0 0 1 0 0 0\n",
            " 1 0 0 0 0 0 0 0 0 0 0 0 0 0 0 1 0 0 1 0 0 0 1 0 0 0 0 0 0 0 0 0 0 0 0 0 1\n",
            " 0 0 1 0 0 0 0 0 0 0 0 0 0 0 0 0 0 0 0 0 0 0 0 0 0 0 1 0 0 0 0 0 0 0 0 0 0\n",
            " 0 0 0 1 0 0 0 1 0 0 0 0 0 0 0 1 0 0 0 0 0 0 0 0 0 0 0 0 0 0 0 0 0 0 0 0 0\n",
            " 0 0 0 0 0 1 0 0 0 0 0 0 0 0 0 0 0 0 0 0 0 0 0 1 0 0 0 0 0 0 1 0 0 0 0 0 0\n",
            " 0 0 0 0 0 0 0 0 0 0 0 1 0 0 1 0 0 0 0 0 0 0 0 0 0 0 0 0 0 0 0 0 0 0 0 0 0\n",
            " 0 0 1 0 0 1 0 0 0 0 0 0 0 0 1 0 0 0 0 0 0 0 0 1 0 0 0 0 0 0 0 0 0 0 0 0 0\n",
            " 0 0 0 0 1 0 0 0 0 0 0 0 1 0 0 0 1 0 0 0 0 0 0 0 0 0 0 0 0 0 0 0 1 0 0 1 0\n",
            " 0 0 0 1 0 0 0 0 0 0 0 1 0 0 0 0 0 1 0 0 1 0 0 0 0 0 0 0 0 0 0 0 1 0 0 0 0\n",
            " 0 0 0 0 0 0 0 0 0 0 0 0 1 0 0 1 0 0 0 0 1 0 0 0 0 1 0 0 0 1 0 0 0 1 0 0 0\n",
            " 0 1 0 0 0 0 0 0 0 0 0 0 0 0 1 0 0 0 0 1 0 0 0 0 1 0 0 0 0 0 0 0 0 0 0 0 0\n",
            " 0 0 0 0 0 0 0 0 0 0 0 1 0 1 0 0 0 0 0 0 0 0 0 0 0 0 0 0 0 0 0 1 0 0 0 0 0\n",
            " 0 1 0 0 0 0 0 0 0 0 0 0 0 0 0 0 0 0 0 0 0 0 0 0 0 0 0 0 1 0 0 0 0 0 0 0 1\n",
            " 0 0 0 0 0 0 0 0 0 0 0 0 0 0 0 1 0 0 1 0 0 0 0 1 0 0 0 0 0 0 0 0 0 0 1 0 0\n",
            " 0 0 0 0 0 0 0 0 0 0 0 0 0 0 0 0 0 0 0 0 0 1 0 0 0 0 0 1 0 0 0 0 0 0 1 0 0\n",
            " 0 0 0 0 0 0 0 0 0 0 0 0 1 0 0 0 0 0 0 0 1 0 0 1 0 0 0 0 0 0 0 0 0 0 1 1 0\n",
            " 0 0 0 0 0 1 0 0 0 0 0 0 0 0 0 0 0 0 0 0 0 0 0 0 0 0 0 0 0 0 0 1 1 0 0 0 0\n",
            " 0 0 0 0 0 0 0 0 0 0 0 0 0 0 0 0 1 0 0 1 0 0 0 0 0 0 0 0 0 0 0 0 0 0 1 0 0\n",
            " 0 0 0 0 0 0 0 0 0 0 0 0 0 0 0 0 0 0 0 0 0 0 1 0 0 0 0 0 0 0 0 1 0 0 0 0 0\n",
            " 1 0 0 0 0 0 1 0 0 1 0 0 0 0 0 0 0 0 0 0 0 0 0 0 0 0 0 0 0 0 0 0 0 0 0 0 0\n",
            " 0 0 1 1 0 0 0 0 0 1 0 1 0 0 0 1 0 0 0 0 0 0 0 0 0 1 0 0 0 0 1 0 0 0 0 0 0\n",
            " 0 0 0 0 0 0 0 0 0 0 0 0 0 0 0 0 0 0 0 0 0 0 0 1 0 0 0 1 0 0 0 0 0 0 0 0 1\n",
            " 0 0 0 0 0 0 0 0 1 0 0 0 0 0 1 0 0 0 0 0 0 0 0 0 0 0 1 0 0 0 0 0 0 0 0 0 0\n",
            " 0 0 0 0 0 0 0 0 0 0 0 0 0 0 0 0 0 0 0 0 0 1 0 0 0 0 0 0 0 0 0 0 0 0 0 0 1\n",
            " 0 1 1 0 0 0 0 0 0 0 0 0 0 0 0 1 0 0 0 0 0 0 0 0 0 0 1 0 0 0 0 1 0 0 0 0 0\n",
            " 0 0 0 0 1 0 0 0 0 0 0 0 0 0 0 0 1 0 0 0 0 0 0 0 0 0 0 0 1 0 1 0 1 0 0 0 1\n",
            " 0]\n"
          ]
        }
      ]
    },
    {
      "cell_type": "markdown",
      "metadata": {
        "id": "bUWQbFOL9r2C"
      },
      "source": [
        "**MAKE PREDICTIONS**"
      ]
    },
    {
      "cell_type": "code",
      "metadata": {
        "id": "6xTwnBe-9qz_"
      },
      "source": [
        "# Make predictions.\n",
        "result = loaded_model.predict(test_dataset)\n",
        "print(result)"
      ],
      "execution_count": null,
      "outputs": []
    },
    {
      "cell_type": "markdown",
      "metadata": {
        "id": "oqzf5vga9XLs"
      },
      "source": [
        "**WRITE PREDICTIONS TO THE TESTING DATASET**"
      ]
    },
    {
      "cell_type": "code",
      "metadata": {
        "colab": {
          "base_uri": "https://localhost:8080/",
          "height": 906
        },
        "id": "wB13_ohQ9blh",
        "outputId": "ab41d6de-a176-4865-9cf4-e6fae704f012"
      },
      "source": [
        "# Write predictions to the testing dataset.\n",
        "eval_dataset = pd.read_csv(\"aml_eval.csv\").copy()\n",
        "\n",
        "# Drop rows with null values.\n",
        "eval_dataset = eval_dataset.dropna(axis = 0, how ='any')\n",
        "\n",
        "# Merge two tables.\n",
        "eval_dataset = eval_dataset.join(pd.DataFrame(result, columns=[\"Result\"]))\n",
        "eval_dataset.head(10)"
      ],
      "execution_count": null,
      "outputs": [
        {
          "output_type": "execute_result",
          "data": {
            "text/html": [
              "<div>\n",
              "<style scoped>\n",
              "    .dataframe tbody tr th:only-of-type {\n",
              "        vertical-align: middle;\n",
              "    }\n",
              "\n",
              "    .dataframe tbody tr th {\n",
              "        vertical-align: top;\n",
              "    }\n",
              "\n",
              "    .dataframe thead th {\n",
              "        text-align: right;\n",
              "    }\n",
              "</style>\n",
              "<table border=\"1\" class=\"dataframe\">\n",
              "  <thead>\n",
              "    <tr style=\"text-align: right;\">\n",
              "      <th></th>\n",
              "      <th>TxnID</th>\n",
              "      <th>token</th>\n",
              "      <th>TransactionType</th>\n",
              "      <th>amount</th>\n",
              "      <th>SenderID</th>\n",
              "      <th>PrevBalanceSender</th>\n",
              "      <th>CurrentBalanceSender</th>\n",
              "      <th>ReceiverID</th>\n",
              "      <th>PrevBalanceReceiver</th>\n",
              "      <th>CurrentBalanceReceiver</th>\n",
              "      <th>time</th>\n",
              "      <th>Sender Location</th>\n",
              "      <th>Receiver Location</th>\n",
              "      <th>Unnamed: 13</th>\n",
              "      <th>Result</th>\n",
              "    </tr>\n",
              "  </thead>\n",
              "  <tbody>\n",
              "    <tr>\n",
              "      <th>0</th>\n",
              "      <td>39136843796</td>\n",
              "      <td>14</td>\n",
              "      <td>Card</td>\n",
              "      <td>2976.90</td>\n",
              "      <td>UR16378522137</td>\n",
              "      <td>0.00</td>\n",
              "      <td>0.00</td>\n",
              "      <td>UR18616413076</td>\n",
              "      <td>0.00</td>\n",
              "      <td>0.00</td>\n",
              "      <td>17-05-2019 14:18</td>\n",
              "      <td>Boone - North Carolina</td>\n",
              "      <td>South San Francisco - California</td>\n",
              "      <td>94</td>\n",
              "      <td>0</td>\n",
              "    </tr>\n",
              "    <tr>\n",
              "      <th>1</th>\n",
              "      <td>2139691900</td>\n",
              "      <td>541</td>\n",
              "      <td>Cash Withdrawal</td>\n",
              "      <td>107320.81</td>\n",
              "      <td>UR36676057242</td>\n",
              "      <td>107320.81</td>\n",
              "      <td>0.00</td>\n",
              "      <td>UR17048227390</td>\n",
              "      <td>289571.44</td>\n",
              "      <td>396892.25</td>\n",
              "      <td>08-06-2019 13:16</td>\n",
              "      <td>Danville - Pennsylvania</td>\n",
              "      <td>Lumberton - Mississippi</td>\n",
              "      <td>35</td>\n",
              "      <td>0</td>\n",
              "    </tr>\n",
              "    <tr>\n",
              "      <th>2</th>\n",
              "      <td>20660338957</td>\n",
              "      <td>329</td>\n",
              "      <td>Money Order</td>\n",
              "      <td>84312.29</td>\n",
              "      <td>UR16574638712</td>\n",
              "      <td>84312.29</td>\n",
              "      <td>0.00</td>\n",
              "      <td>UR12154241894</td>\n",
              "      <td>0.00</td>\n",
              "      <td>0.00</td>\n",
              "      <td>30-05-2019 17:48</td>\n",
              "      <td>Danville - Pennsylvania</td>\n",
              "      <td>Lumberton - Mississippi</td>\n",
              "      <td>65</td>\n",
              "      <td>1</td>\n",
              "    </tr>\n",
              "    <tr>\n",
              "      <th>3</th>\n",
              "      <td>63179786910</td>\n",
              "      <td>371</td>\n",
              "      <td>Cash Deposit</td>\n",
              "      <td>153757.28</td>\n",
              "      <td>UR37893062645</td>\n",
              "      <td>1821016.76</td>\n",
              "      <td>1974774.04</td>\n",
              "      <td>UR35637447376</td>\n",
              "      <td>759756.00</td>\n",
              "      <td>605998.72</td>\n",
              "      <td>01-06-2019 11:25</td>\n",
              "      <td>Austin - Texas</td>\n",
              "      <td>Birmingham - Alabama</td>\n",
              "      <td>59</td>\n",
              "      <td>0</td>\n",
              "    </tr>\n",
              "    <tr>\n",
              "      <th>4</th>\n",
              "      <td>34659854003</td>\n",
              "      <td>359</td>\n",
              "      <td>Card</td>\n",
              "      <td>5182.58</td>\n",
              "      <td>UR21469012932</td>\n",
              "      <td>21447.00</td>\n",
              "      <td>16264.42</td>\n",
              "      <td>UR36765338284</td>\n",
              "      <td>0.00</td>\n",
              "      <td>0.00</td>\n",
              "      <td>31-05-2019 23:27</td>\n",
              "      <td>Port Monmouth - New Jersey</td>\n",
              "      <td>Plevna - Kansas</td>\n",
              "      <td>63</td>\n",
              "      <td>0</td>\n",
              "    </tr>\n",
              "    <tr>\n",
              "      <th>5</th>\n",
              "      <td>55660689827</td>\n",
              "      <td>41</td>\n",
              "      <td>Cash Withdrawal</td>\n",
              "      <td>130605.05</td>\n",
              "      <td>UR21487275297</td>\n",
              "      <td>0.00</td>\n",
              "      <td>0.00</td>\n",
              "      <td>UR18746003741</td>\n",
              "      <td>285788.50</td>\n",
              "      <td>416393.55</td>\n",
              "      <td>18-05-2019 17:57</td>\n",
              "      <td>Oscar - Oklahoma</td>\n",
              "      <td>Rockwood - Maine</td>\n",
              "      <td>88</td>\n",
              "      <td>0</td>\n",
              "    </tr>\n",
              "    <tr>\n",
              "      <th>6</th>\n",
              "      <td>49466936810</td>\n",
              "      <td>203</td>\n",
              "      <td>Cash Withdrawal</td>\n",
              "      <td>63594.41</td>\n",
              "      <td>UR38754897939</td>\n",
              "      <td>317140.00</td>\n",
              "      <td>253545.59</td>\n",
              "      <td>UR38914980490</td>\n",
              "      <td>0.00</td>\n",
              "      <td>63594.41</td>\n",
              "      <td>25-05-2019 11:00</td>\n",
              "      <td>Winnett - Montana</td>\n",
              "      <td>Thomson - Georgia</td>\n",
              "      <td>2</td>\n",
              "      <td>0</td>\n",
              "    </tr>\n",
              "    <tr>\n",
              "      <th>7</th>\n",
              "      <td>12518404759</td>\n",
              "      <td>163</td>\n",
              "      <td>Money Order</td>\n",
              "      <td>805867.58</td>\n",
              "      <td>UR26698731227</td>\n",
              "      <td>0.00</td>\n",
              "      <td>0.00</td>\n",
              "      <td>UR19445041031</td>\n",
              "      <td>1060930.38</td>\n",
              "      <td>1866797.96</td>\n",
              "      <td>23-05-2019 19:09</td>\n",
              "      <td>San Fidel - New Mexico</td>\n",
              "      <td>Corry - Pennsylvania</td>\n",
              "      <td>98</td>\n",
              "      <td>0</td>\n",
              "    </tr>\n",
              "    <tr>\n",
              "      <th>8</th>\n",
              "      <td>54541185549</td>\n",
              "      <td>229</td>\n",
              "      <td>Card</td>\n",
              "      <td>2871.61</td>\n",
              "      <td>UR22459974752</td>\n",
              "      <td>19015.00</td>\n",
              "      <td>16143.39</td>\n",
              "      <td>UR31862946127</td>\n",
              "      <td>0.00</td>\n",
              "      <td>0.00</td>\n",
              "      <td>26-05-2019 13:15</td>\n",
              "      <td>Bronx - New York</td>\n",
              "      <td>Southern Md Facility - Maryland</td>\n",
              "      <td>21</td>\n",
              "      <td>0</td>\n",
              "    </tr>\n",
              "    <tr>\n",
              "      <th>9</th>\n",
              "      <td>23800269030</td>\n",
              "      <td>229</td>\n",
              "      <td>Card</td>\n",
              "      <td>14206.83</td>\n",
              "      <td>UR37649044727</td>\n",
              "      <td>0.00</td>\n",
              "      <td>0.00</td>\n",
              "      <td>UR19642794087</td>\n",
              "      <td>0.00</td>\n",
              "      <td>0.00</td>\n",
              "      <td>26-05-2019 13:51</td>\n",
              "      <td>Acushnet - Massachusetts</td>\n",
              "      <td>Devils Tower - Wyoming</td>\n",
              "      <td>70</td>\n",
              "      <td>0</td>\n",
              "    </tr>\n",
              "  </tbody>\n",
              "</table>\n",
              "</div>"
            ],
            "text/plain": [
              "         TxnID  token  ... Unnamed: 13  Result\n",
              "0  39136843796     14  ...          94       0\n",
              "1   2139691900    541  ...          35       0\n",
              "2  20660338957    329  ...          65       1\n",
              "3  63179786910    371  ...          59       0\n",
              "4  34659854003    359  ...          63       0\n",
              "5  55660689827     41  ...          88       0\n",
              "6  49466936810    203  ...           2       0\n",
              "7  12518404759    163  ...          98       0\n",
              "8  54541185549    229  ...          21       0\n",
              "9  23800269030    229  ...          70       0\n",
              "\n",
              "[10 rows x 15 columns]"
            ]
          },
          "metadata": {},
          "execution_count": 41
        }
      ]
    }
  ]
}